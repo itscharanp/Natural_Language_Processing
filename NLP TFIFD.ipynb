{
 "cells": [
  {
   "cell_type": "code",
   "execution_count": 10,
   "metadata": {},
   "outputs": [],
   "source": [
    "f=open('C:/Users/Asus/Desktop/HATE.txt')"
   ]
  },
  {
   "cell_type": "code",
   "execution_count": 11,
   "metadata": {},
   "outputs": [
    {
     "name": "stdout",
     "output_type": "stream",
     "text": [
      "['i love you', 'i hate you', 'i kill you', 'i love to kill you', 'i admire you']\n",
      "[1, 0, 0, 0, 1]\n"
     ]
    }
   ],
   "source": [
    "lines=f.readlines()\n",
    "text=[]\n",
    "y=[]\n",
    "for line in lines:\n",
    "    w=line.lower().strip().split(',')\n",
    "    text.append(w[0])\n",
    "    l=0\n",
    "    if w[1]=='pos':\n",
    "        l=1\n",
    "    y.append(l)\n",
    "print(text)\n",
    "print(y)"
   ]
  },
  {
   "cell_type": "code",
   "execution_count": 13,
   "metadata": {},
   "outputs": [
    {
     "name": "stdout",
     "output_type": "stream",
     "text": [
      "CountVectorizer(analyzer='word', binary=False, decode_error='strict',\n",
      "        dtype=<class 'numpy.int64'>, encoding='utf-8', input='content',\n",
      "        lowercase=True, max_df=1.0, max_features=None, min_df=1,\n",
      "        ngram_range=(1, 1), preprocessor=None, stop_words=None,\n",
      "        strip_accents=None, token_pattern='(?u)\\\\b\\\\w\\\\w+\\\\b',\n",
      "        tokenizer=None, vocabulary=None) [[0 0 0 1 0 1]\n",
      " [0 1 0 0 0 1]\n",
      " [0 0 1 0 0 1]\n",
      " [0 0 1 1 1 1]\n",
      " [1 0 0 0 0 1]]\n"
     ]
    }
   ],
   "source": [
    "from sklearn.feature_extraction.text import CountVectorizer\n",
    "vec=CountVectorizer()\n",
    "vec.fit(text)\n",
    "v=vec.transform(text).toarray()\n",
    "print(vec,v)   "
   ]
  },
  {
   "cell_type": "code",
   "execution_count": 3,
   "metadata": {},
   "outputs": [
    {
     "name": "stdout",
     "output_type": "stream",
     "text": [
      "[[0.         0.         0.         0.861037   0.         0.50854232]\n",
      " [0.         0.90275015 0.         0.         0.         0.43016528]\n",
      " [0.         0.         0.861037   0.         0.         0.50854232]\n",
      " [0.         0.         0.50733821 0.50733821 0.62883263 0.29964212]\n",
      " [0.90275015 0.         0.         0.         0.         0.43016528]]\n"
     ]
    }
   ],
   "source": [
    "def tfidf(text):\n",
    "    from sklearn.feature_extraction.text import TfidfVectorizer\n",
    "    vec=TfidfVectorizer()\n",
    "    vec.fit(text)\n",
    "    v=vec.transform(text).toarray()\n",
    "    return v\n",
    "x=tfidf(text)\n",
    "print(x)"
   ]
  },
  {
   "cell_type": "code",
   "execution_count": 4,
   "metadata": {},
   "outputs": [
    {
     "name": "stdout",
     "output_type": "stream",
     "text": [
      "[1, 0, 0, 0, 1]\n"
     ]
    }
   ],
   "source": [
    "print(y)"
   ]
  },
  {
   "cell_type": "code",
   "execution_count": 14,
   "metadata": {},
   "outputs": [],
   "source": [
    "def tfidf(x):\n",
    "    from sklearn.feature_extraction.text import TfidfVectorizer\n",
    "    vec=TfidfVectorizer()\n",
    "    vec.fit(text)\n",
    "    v=vec.transform(text).toarray()\n",
    "    return v"
   ]
  },
  {
   "cell_type": "code",
   "execution_count": 15,
   "metadata": {},
   "outputs": [
    {
     "data": {
      "text/plain": [
       "array([[0.        , 0.        , 0.        , 0.861037  , 0.        ,\n",
       "        0.50854232],\n",
       "       [0.        , 0.90275015, 0.        , 0.        , 0.        ,\n",
       "        0.43016528],\n",
       "       [0.        , 0.        , 0.861037  , 0.        , 0.        ,\n",
       "        0.50854232],\n",
       "       [0.        , 0.        , 0.50733821, 0.50733821, 0.62883263,\n",
       "        0.29964212],\n",
       "       [0.90275015, 0.        , 0.        , 0.        , 0.        ,\n",
       "        0.43016528]])"
      ]
     },
     "execution_count": 15,
     "metadata": {},
     "output_type": "execute_result"
    }
   ],
   "source": [
    "tfidf(text)"
   ]
  },
  {
   "cell_type": "code",
   "execution_count": 17,
   "metadata": {},
   "outputs": [
    {
     "name": "stdout",
     "output_type": "stream",
     "text": [
      "[1, 0, 0, 0, 1]\n"
     ]
    }
   ],
   "source": [
    "print(y)"
   ]
  },
  {
   "cell_type": "code",
   "execution_count": 19,
   "metadata": {},
   "outputs": [],
   "source": [
    "\n",
    "from sklearn.tree import DecisionTreeClassifier"
   ]
  },
  {
   "cell_type": "code",
   "execution_count": 20,
   "metadata": {},
   "outputs": [
    {
     "name": "stdout",
     "output_type": "stream",
     "text": [
      "[1, 0, 0, 0, 1]\n",
      "[1 0 0 0 1]\n"
     ]
    }
   ],
   "source": [
    "model=DecisionTreeClassifier()\n",
    "model.fit(x,y)#x=input feacture,y lable(actual)\n",
    "ycap=model.predict(x)\n",
    "print(y)#actual(lable)\n",
    "print(ycap)#(predication)"
   ]
  },
  {
   "cell_type": "code",
   "execution_count": 22,
   "metadata": {},
   "outputs": [
    {
     "data": {
      "text/plain": [
       "array([ True,  True,  True,  True,  True])"
      ]
     },
     "execution_count": 22,
     "metadata": {},
     "output_type": "execute_result"
    }
   ],
   "source": [
    "import numpy as np\n",
    "y=np.array(y)\n",
    "ycap=np.array(ycap)\n",
    "y==ycap"
   ]
  },
  {
   "cell_type": "code",
   "execution_count": 23,
   "metadata": {},
   "outputs": [],
   "source": [
    "import numpy as np\n",
    "def accuracy (y,ycap):\n",
    "    y=np.array(y)\n",
    "    ycap=np.array(ycap)\n",
    "    c=y==ycap\n",
    "    pcent=c[c==True].size\n",
    "    n=y.size\n",
    "    all=pcent/n*100\n",
    "    return all"
   ]
  },
  {
   "cell_type": "code",
   "execution_count": 24,
   "metadata": {},
   "outputs": [
    {
     "data": {
      "text/plain": [
       "100.0"
      ]
     },
     "execution_count": 24,
     "metadata": {},
     "output_type": "execute_result"
    }
   ],
   "source": [
    "accuracy(y,ycap)"
   ]
  },
  {
   "cell_type": "code",
   "execution_count": 25,
   "metadata": {},
   "outputs": [],
   "source": [
    "yy=np.c_[y]"
   ]
  },
  {
   "cell_type": "code",
   "execution_count": 26,
   "metadata": {},
   "outputs": [
    {
     "name": "stdout",
     "output_type": "stream",
     "text": [
      "[[1]\n",
      " [0]\n",
      " [0]\n",
      " [0]\n",
      " [1]]\n"
     ]
    }
   ],
   "source": [
    "print(yy)"
   ]
  },
  {
   "cell_type": "code",
   "execution_count": 27,
   "metadata": {},
   "outputs": [
    {
     "data": {
      "text/plain": [
       "(6, 1)"
      ]
     },
     "execution_count": 27,
     "metadata": {},
     "output_type": "execute_result"
    }
   ],
   "source": [
    "from numpy.linalg import inv\n",
    "beta=inv(x.T.dot(x)).dot(x.T.dot(yy))\n",
    "beta.shape"
   ]
  },
  {
   "cell_type": "code",
   "execution_count": 28,
   "metadata": {},
   "outputs": [
    {
     "name": "stdout",
     "output_type": "stream",
     "text": [
      "[[ 1.   ]\n",
      " [-0.125]\n",
      " [-0.5  ]\n",
      " [ 1.125]\n",
      " [-0.625]\n",
      " [ 0.75 ]]\n"
     ]
    }
   ],
   "source": [
    "print(beta)"
   ]
  },
  {
   "cell_type": "code",
   "execution_count": 29,
   "metadata": {},
   "outputs": [
    {
     "name": "stdout",
     "output_type": "stream",
     "text": [
      "[[0.20585838]\n",
      " [0.44774644]\n",
      " [0.51227547]\n",
      " [0.46286909]\n",
      " [0.22699209]]\n"
     ]
    }
   ],
   "source": [
    "def logistic(x,b):\n",
    "    return 1/(1+np.exp(x.dot(b)))\n",
    "yycap=logistic(x,beta)\n",
    "print(yycap)"
   ]
  },
  {
   "cell_type": "code",
   "execution_count": 30,
   "metadata": {},
   "outputs": [
    {
     "name": "stdout",
     "output_type": "stream",
     "text": [
      "[[0.]\n",
      " [0.]\n",
      " [1.]\n",
      " [0.]\n",
      " [0.]]\n"
     ]
    }
   ],
   "source": [
    "yycap[yycap>0.5]=1\n",
    "yycap[yycap<0.5]=0\n",
    "print(yycap)"
   ]
  },
  {
   "cell_type": "code",
   "execution_count": 31,
   "metadata": {},
   "outputs": [
    {
     "name": "stdout",
     "output_type": "stream",
     "text": [
      "[[1]\n",
      " [0]\n",
      " [0]\n",
      " [0]\n",
      " [1]]\n"
     ]
    }
   ],
   "source": [
    "print(yy)"
   ]
  },
  {
   "cell_type": "code",
   "execution_count": 32,
   "metadata": {},
   "outputs": [
    {
     "data": {
      "text/plain": [
       "40.0"
      ]
     },
     "execution_count": 32,
     "metadata": {},
     "output_type": "execute_result"
    }
   ],
   "source": [
    "accuracy(yy,yycap)"
   ]
  },
  {
   "cell_type": "code",
   "execution_count": null,
   "metadata": {},
   "outputs": [],
   "source": []
  }
 ],
 "metadata": {
  "kernelspec": {
   "display_name": "Python 3",
   "language": "python",
   "name": "python3"
  },
  "language_info": {
   "codemirror_mode": {
    "name": "ipython",
    "version": 3
   },
   "file_extension": ".py",
   "mimetype": "text/x-python",
   "name": "python",
   "nbconvert_exporter": "python",
   "pygments_lexer": "ipython3",
   "version": "3.7.3"
  }
 },
 "nbformat": 4,
 "nbformat_minor": 2
}
